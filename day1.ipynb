{
  "cells": [
    {
      "cell_type": "markdown",
      "metadata": {
        "id": "view-in-github",
        "colab_type": "text"
      },
      "source": [
        "<a href=\"https://colab.research.google.com/github/beyonnasemi/llmStudy/blob/1week/day1.ipynb\" target=\"_parent\"><img src=\"https://colab.research.google.com/assets/colab-badge.svg\" alt=\"Open In Colab\"/></a>"
      ]
    },
    {
      "cell_type": "code",
      "execution_count": null,
      "id": "7b87cadb-d513-4303-baee-a37b6f938e4d",
      "metadata": {
        "id": "7b87cadb-d513-4303-baee-a37b6f938e4d"
      },
      "outputs": [],
      "source": [
        "# Load environment variables in a file called .env\n",
        "\n",
        "load_dotenv(override=True)\n",
        "api_key = os.getenv('OPENAI_API_KEY')\n",
        "\n",
        "# Check the key\n",
        "\n",
        "if not api_key:\n",
        "    print(\"No API key was found - please head over to the troubleshooting notebook in this folder to identify & fix!\")\n",
        "elif not api_key.startswith(\"sk-proj-\"):\n",
        "    print(\"An API key was found, but it doesn't start sk-proj-; please check you're using the right key - see troubleshooting notebook\")\n",
        "elif api_key.strip() != api_key:\n",
        "    print(\"An API key was found, but it looks like it might have space or tab characters at the start or end - please remove them - see troubleshooting notebook\")\n",
        "else:\n",
        "    print(\"API key found and looks good so far!\")\n"
      ]
    },
    {
      "cell_type": "code",
      "execution_count": null,
      "id": "019974d9-f3ad-4a8a-b5f9-0a3719aea2d3",
      "metadata": {
        "id": "019974d9-f3ad-4a8a-b5f9-0a3719aea2d3"
      },
      "outputs": [],
      "source": [
        "openai = OpenAI()\n",
        "\n",
        "# If this doesn't work, try Kernel menu >> Restart Kernel and Clear Outputs Of All Cells, then run the cells from the top of this notebook down.\n",
        "# If it STILL doesn't work (horrors!) then please see the Troubleshooting notebook in this folder for full instructions"
      ]
    },
    {
      "cell_type": "markdown",
      "id": "442fc84b-0815-4f40-99ab-d9a5da6bda91",
      "metadata": {
        "id": "442fc84b-0815-4f40-99ab-d9a5da6bda91"
      },
      "source": [
        "# Let's make a quick call to a Frontier model to get started, as a preview!"
      ]
    },
    {
      "cell_type": "code",
      "execution_count": null,
      "id": "a58394bf-1e45-46af-9bfd-01e24da6f49a",
      "metadata": {
        "id": "a58394bf-1e45-46af-9bfd-01e24da6f49a"
      },
      "outputs": [],
      "source": [
        "# To give you a preview -- calling OpenAI with these messages is this easy. Any problems, head over to the Troubleshooting notebook.\n",
        "\n",
        "message = \"Hello, GPT! This is my first ever message to you! Hi!\"\n",
        "response = openai.chat.completions.create(model=\"gpt-4o-mini\", messages=[{\"role\":\"user\", \"content\":message}])\n",
        "print(response.choices[0].message.content)"
      ]
    },
    {
      "cell_type": "markdown",
      "id": "2aa190e5-cb31-456a-96cc-db109919cd78",
      "metadata": {
        "id": "2aa190e5-cb31-456a-96cc-db109919cd78"
      },
      "source": [
        "## OK onwards with our first project"
      ]
    },
    {
      "cell_type": "code",
      "execution_count": null,
      "id": "c5e793b2-6775-426a-a139-4848291d0463",
      "metadata": {
        "id": "c5e793b2-6775-426a-a139-4848291d0463"
      },
      "outputs": [],
      "source": [
        "# A class to represent a Webpage\n",
        "# If you're not familiar with Classes, check out the \"Intermediate Python\" notebook\n",
        "\n",
        "# Some websites need you to use proper headers when fetching them:\n",
        "headers = {\n",
        " \"User-Agent\": \"Mozilla/5.0 (Windows NT 10.0; Win64; x64) AppleWebKit/537.36 (KHTML, like Gecko) Chrome/117.0.0.0 Safari/537.36\"\n",
        "}\n",
        "\n",
        "class Website:\n",
        "\n",
        "    def __init__(self, url):\n",
        "        \"\"\"\n",
        "        Create this Website object from the given url using the BeautifulSoup library\n",
        "        \"\"\"\n",
        "        self.url = url\n",
        "        response = requests.get(url, headers=headers)\n",
        "        soup = BeautifulSoup(response.content, 'html.parser')\n",
        "        self.title = soup.title.string if soup.title else \"No title found\"\n",
        "        for irrelevant in soup.body([\"script\", \"style\", \"img\", \"input\"]):\n",
        "            irrelevant.decompose()\n",
        "        self.text = soup.body.get_text(separator=\"\\n\", strip=True)"
      ]
    },
    {
      "cell_type": "code",
      "execution_count": null,
      "id": "2ef960cf-6dc2-4cda-afb3-b38be12f4c97",
      "metadata": {
        "id": "2ef960cf-6dc2-4cda-afb3-b38be12f4c97"
      },
      "outputs": [],
      "source": [
        "# Let's try one out. Change the website and add print statements to follow along.\n",
        "\n",
        "ed = Website(\"https://edwarddonner.com\")\n",
        "print(ed.title)\n",
        "print(ed.text)"
      ]
    },
    {
      "cell_type": "markdown",
      "id": "6a478a0c-2c53-48ff-869c-4d08199931e1",
      "metadata": {
        "id": "6a478a0c-2c53-48ff-869c-4d08199931e1"
      },
      "source": [
        "## Types of prompts\n",
        "\n",
        "You may know this already - but if not, you will get very familiar with it!\n",
        "\n",
        "Models like GPT4o have been trained to receive instructions in a particular way.\n",
        "\n",
        "They expect to receive:\n",
        "\n",
        "**A system prompt** that tells them what task they are performing and what tone they should use\n",
        "\n",
        "**A user prompt** -- the conversation starter that they should reply to"
      ]
    },
    {
      "cell_type": "code",
      "execution_count": null,
      "id": "abdb8417-c5dc-44bc-9bee-2e059d162699",
      "metadata": {
        "id": "abdb8417-c5dc-44bc-9bee-2e059d162699"
      },
      "outputs": [],
      "source": [
        "# Define our system prompt - you can experiment with this later, changing the last sentence to 'Respond in markdown in Spanish.\"\n",
        "\n",
        "system_prompt = \"You are an assistant that analyzes the contents of a website \\\n",
        "and provides a short summary, ignoring text that might be navigation related. \\\n",
        "Respond in markdown.\""
      ]
    },
    {
      "cell_type": "code",
      "execution_count": null,
      "id": "f0275b1b-7cfe-4f9d-abfa-7650d378da0c",
      "metadata": {
        "id": "f0275b1b-7cfe-4f9d-abfa-7650d378da0c"
      },
      "outputs": [],
      "source": [
        "# A function that writes a User Prompt that asks for summaries of websites:\n",
        "\n",
        "def user_prompt_for(website):\n",
        "    user_prompt = f\"You are looking at a website titled {website.title}\"\n",
        "    user_prompt += \"\\nThe contents of this website is as follows; \\\n",
        "please provide a short summary of this website in markdown. \\\n",
        "If it includes news or announcements, then summarize these too.\\n\\n\"\n",
        "    user_prompt += website.text\n",
        "    return user_prompt"
      ]
    },
    {
      "cell_type": "code",
      "execution_count": null,
      "id": "26448ec4-5c00-4204-baec-7df91d11ff2e",
      "metadata": {
        "id": "26448ec4-5c00-4204-baec-7df91d11ff2e"
      },
      "outputs": [],
      "source": [
        "print(user_prompt_for(ed))"
      ]
    },
    {
      "cell_type": "markdown",
      "id": "ea211b5f-28e1-4a86-8e52-c0b7677cadcc",
      "metadata": {
        "id": "ea211b5f-28e1-4a86-8e52-c0b7677cadcc"
      },
      "source": [
        "## Messages\n",
        "\n",
        "The API from OpenAI expects to receive messages in a particular structure.\n",
        "Many of the other APIs share this structure:\n",
        "\n",
        "```\n",
        "[\n",
        "    {\"role\": \"system\", \"content\": \"system message goes here\"},\n",
        "    {\"role\": \"user\", \"content\": \"user message goes here\"}\n",
        "]\n",
        "\n",
        "To give you a preview, the next 2 cells make a rather simple call - we won't stretch the mighty GPT (yet!)"
      ]
    },
    {
      "cell_type": "code",
      "execution_count": null,
      "id": "f25dcd35-0cd0-4235-9f64-ac37ed9eaaa5",
      "metadata": {
        "id": "f25dcd35-0cd0-4235-9f64-ac37ed9eaaa5"
      },
      "outputs": [],
      "source": [
        "messages = [\n",
        "    {\"role\": \"system\", \"content\": \"You are a snarky assistant\"},\n",
        "    {\"role\": \"user\", \"content\": \"What is 2 + 2?\"}\n",
        "]"
      ]
    },
    {
      "cell_type": "code",
      "execution_count": null,
      "id": "21ed95c5-7001-47de-a36d-1d6673b403ce",
      "metadata": {
        "id": "21ed95c5-7001-47de-a36d-1d6673b403ce"
      },
      "outputs": [],
      "source": [
        "# To give you a preview -- calling OpenAI with system and user messages:\n",
        "\n",
        "response = openai.chat.completions.create(model=\"gpt-4o-mini\", messages=messages)\n",
        "print(response.choices[0].message.content)"
      ]
    },
    {
      "cell_type": "markdown",
      "id": "d06e8d78-ce4c-4b05-aa8e-17050c82bb47",
      "metadata": {
        "id": "d06e8d78-ce4c-4b05-aa8e-17050c82bb47"
      },
      "source": [
        "## And now let's build useful messages for GPT-4o-mini, using a function"
      ]
    },
    {
      "cell_type": "code",
      "execution_count": null,
      "id": "0134dfa4-8299-48b5-b444-f2a8c3403c88",
      "metadata": {
        "id": "0134dfa4-8299-48b5-b444-f2a8c3403c88"
      },
      "outputs": [],
      "source": [
        "# See how this function creates exactly the format above\n",
        "\n",
        "def messages_for(website):\n",
        "    return [\n",
        "        {\"role\": \"system\", \"content\": system_prompt},\n",
        "        {\"role\": \"user\", \"content\": user_prompt_for(website)}\n",
        "    ]"
      ]
    },
    {
      "cell_type": "code",
      "execution_count": null,
      "id": "36478464-39ee-485c-9f3f-6a4e458dbc9c",
      "metadata": {
        "id": "36478464-39ee-485c-9f3f-6a4e458dbc9c"
      },
      "outputs": [],
      "source": [
        "# Try this out, and then try for a few more websites\n",
        "\n",
        "messages_for(ed)"
      ]
    },
    {
      "cell_type": "markdown",
      "id": "16f49d46-bf55-4c3e-928f-68fc0bf715b0",
      "metadata": {
        "id": "16f49d46-bf55-4c3e-928f-68fc0bf715b0"
      },
      "source": [
        "## Time to bring it together - the API for OpenAI is very simple!"
      ]
    },
    {
      "cell_type": "code",
      "execution_count": null,
      "id": "905b9919-aba7-45b5-ae65-81b3d1d78e34",
      "metadata": {
        "id": "905b9919-aba7-45b5-ae65-81b3d1d78e34"
      },
      "outputs": [],
      "source": [
        "# And now: call the OpenAI API. You will get very familiar with this!\n",
        "\n",
        "def summarize(url):\n",
        "    website = Website(url)\n",
        "    response = openai.chat.completions.create(\n",
        "        model = \"gpt-4o-mini\",\n",
        "        messages = messages_for(website)\n",
        "    )\n",
        "    return response.choices[0].message.content"
      ]
    },
    {
      "cell_type": "code",
      "execution_count": null,
      "id": "05e38d41-dfa4-4b20-9c96-c46ea75d9fb5",
      "metadata": {
        "id": "05e38d41-dfa4-4b20-9c96-c46ea75d9fb5"
      },
      "outputs": [],
      "source": [
        "summarize(\"https://edwarddonner.com\")"
      ]
    },
    {
      "cell_type": "code",
      "execution_count": null,
      "id": "3d926d59-450e-4609-92ba-2d6f244f1342",
      "metadata": {
        "id": "3d926d59-450e-4609-92ba-2d6f244f1342"
      },
      "outputs": [],
      "source": [
        "# A function to display this nicely in the Jupyter output, using markdown\n",
        "\n",
        "def display_summary(url):\n",
        "    summary = summarize(url)\n",
        "    display(Markdown(summary))"
      ]
    },
    {
      "cell_type": "code",
      "execution_count": null,
      "id": "3018853a-445f-41ff-9560-d925d1774b2f",
      "metadata": {
        "id": "3018853a-445f-41ff-9560-d925d1774b2f"
      },
      "outputs": [],
      "source": [
        "display_summary(\"https://edwarddonner.com\")"
      ]
    },
    {
      "cell_type": "markdown",
      "id": "b3bcf6f4-adce-45e9-97ad-d9a5d7a3a624",
      "metadata": {
        "id": "b3bcf6f4-adce-45e9-97ad-d9a5d7a3a624"
      },
      "source": [
        "# Let's try more websites\n",
        "\n",
        "Note that this will only work on websites that can be scraped using this simplistic approach.\n",
        "\n",
        "Websites that are rendered with Javascript, like React apps, won't show up. See the community-contributions folder for a Selenium implementation that gets around this. You'll need to read up on installing Selenium (ask ChatGPT!)\n",
        "\n",
        "Also Websites protected with CloudFront (and similar) may give 403 errors - many thanks Andy J for pointing this out.\n",
        "\n",
        "But many websites will work just fine!"
      ]
    },
    {
      "cell_type": "code",
      "execution_count": null,
      "id": "45d83403-a24c-44b5-84ac-961449b4008f",
      "metadata": {
        "id": "45d83403-a24c-44b5-84ac-961449b4008f"
      },
      "outputs": [],
      "source": [
        "display_summary(\"https://cnn.com\")"
      ]
    },
    {
      "cell_type": "code",
      "execution_count": null,
      "id": "75e9fd40-b354-4341-991e-863ef2e59db7",
      "metadata": {
        "id": "75e9fd40-b354-4341-991e-863ef2e59db7"
      },
      "outputs": [],
      "source": [
        "display_summary(\"https://anthropic.com\")"
      ]
    },
    {
      "cell_type": "markdown",
      "id": "c951be1a-7f1b-448f-af1f-845978e47e2c",
      "metadata": {
        "id": "c951be1a-7f1b-448f-af1f-845978e47e2c"
      },
      "source": [
        "<table style=\"margin: 0; text-align: left;\">\n",
        "    <tr>\n",
        "        <td style=\"width: 150px; height: 150px; vertical-align: middle;\">\n",
        "            <img src=\"../business.jpg\" width=\"150\" height=\"150\" style=\"display: block;\" />\n",
        "        </td>\n",
        "        <td>\n",
        "            <h2 style=\"color:#181;\">Business applications</h2>\n",
        "            <span style=\"color:#181;\">In this exercise, you experienced calling the Cloud API of a Frontier Model (a leading model at the frontier of AI) for the first time. We will be using APIs like OpenAI at many stages in the course, in addition to building our own LLMs.\n",
        "\n",
        "More specifically, we've applied this to Summarization - a classic Gen AI use case to make a summary. This can be applied to any business vertical - summarizing the news, summarizing financial performance, summarizing a resume in a cover letter - the applications are limitless. Consider how you could apply Summarization in your business, and try prototyping a solution.</span>\n",
        "        </td>\n",
        "    </tr>\n",
        "</table>\n",
        "\n",
        "<table style=\"margin: 0; text-align: left;\">\n",
        "    <tr>\n",
        "        <td style=\"width: 150px; height: 150px; vertical-align: middle;\">\n",
        "            <img src=\"../important.jpg\" width=\"150\" height=\"150\" style=\"display: block;\" />\n",
        "        </td>\n",
        "        <td>\n",
        "            <h2 style=\"color:#900;\">Before you continue - now try yourself</h2>\n",
        "            <span style=\"color:#900;\">Use the cell below to make your own simple commercial example. Stick with the summarization use case for now. Here's an idea: write something that will take the contents of an email, and will suggest an appropriate short subject line for the email. That's the kind of feature that might be built into a commercial email tool.</span>\n",
        "        </td>\n",
        "    </tr>\n",
        "</table>"
      ]
    },
    {
      "cell_type": "code",
      "execution_count": null,
      "id": "00743dac-0e70-45b7-879a-d7293a6f68a6",
      "metadata": {
        "id": "00743dac-0e70-45b7-879a-d7293a6f68a6"
      },
      "outputs": [],
      "source": [
        "# Step 1: Create your prompts\n",
        "\n",
        "system_prompt = \"something here\"\n",
        "user_prompt = \"\"\"\n",
        "    Lots of text\n",
        "    Can be pasted here\n",
        "\"\"\"\n",
        "\n",
        "# Step 2: Make the messages list\n",
        "\n",
        "messages = [] # fill this in\n",
        "\n",
        "# Step 3: Call OpenAI\n",
        "\n",
        "response =\n",
        "\n",
        "# Step 4: print the result\n",
        "\n",
        "print("
      ]
    }
  ],
  "metadata": {
    "kernelspec": {
      "display_name": "Python 3 (ipykernel)",
      "language": "python",
      "name": "python3"
    },
    "language_info": {
      "codemirror_mode": {
        "name": "ipython",
        "version": 3
      },
      "file_extension": ".py",
      "mimetype": "text/x-python",
      "name": "python",
      "nbconvert_exporter": "python",
      "pygments_lexer": "ipython3",
      "version": "3.11.11"
    },
    "colab": {
      "provenance": [],
      "toc_visible": true,
      "include_colab_link": true
    }
  },
  "nbformat": 4,
  "nbformat_minor": 5
}